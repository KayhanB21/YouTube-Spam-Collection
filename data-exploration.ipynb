{
 "cells": [
  {
   "cell_type": "code",
   "execution_count": 1,
   "outputs": [],
   "source": [
    "import pandas as pd\n",
    "\n",
    "import helpers.pandas_h as hp"
   ],
   "metadata": {
    "collapsed": false,
    "pycharm": {
     "name": "#%%\n"
    }
   }
  },
  {
   "cell_type": "code",
   "execution_count": 2,
   "outputs": [],
   "source": [
    "df = pd.read_csv('dataset/Youtube01-Psy.csv')\n",
    "df['video_id'] = 1\n",
    "\n",
    "df_temp = pd.read_csv('dataset/Youtube02-KatyPerry.csv')\n",
    "df_temp['video_id'] = 2\n",
    "df = pd.concat([df, df_temp])\n",
    "\n",
    "df_temp = pd.read_csv('dataset/Youtube03-LMFAO.csv')\n",
    "df_temp['video_id'] = 3\n",
    "df = pd.concat([df, df_temp])\n",
    "\n",
    "df_temp = pd.read_csv('dataset/Youtube04-Eminem.csv')\n",
    "df_temp['video_id'] = 4\n",
    "df = pd.concat([df, df_temp])\n",
    "\n",
    "df_temp = pd.read_csv('dataset/Youtube05-Shakira.csv')\n",
    "df_temp['video_id'] = 5\n",
    "df = pd.concat([df, df_temp])\n",
    "df = df.reset_index(drop=True)"
   ],
   "metadata": {
    "collapsed": false,
    "pycharm": {
     "name": "#%%\n"
    }
   }
  },
  {
   "cell_type": "markdown",
   "source": [
    "Dataset --- YouTube ID -- # Spam - # Ham - Total\n",
    "Psy ------- 9bZkp7q19f0 --- 175 --- 175 --- 350\n",
    "KatyPerry - CevxZvSJLk8 --- 175 --- 175 --- 350\n",
    "LMFAO ----- KQ6zr6kCPj8 --- 236 --- 202 --- 438\n",
    "Eminem ---- uelHwf8o7_U --- 245 --- 203 --- 448\n",
    "Shakira --- pRpeEdMmmQ0 --- 174 --- 196 --- 370\n"
   ],
   "metadata": {
    "collapsed": false,
    "pycharm": {
     "name": "#%% md\n"
    }
   }
  },
  {
   "cell_type": "code",
   "execution_count": 3,
   "outputs": [
    {
     "name": "stdout",
     "output_type": "stream",
     "text": [
      "350\n",
      "175\n",
      "175\n",
      "350\n",
      "175\n",
      "175\n",
      "438\n",
      "236\n",
      "202\n",
      "448\n",
      "245\n",
      "203\n",
      "370\n",
      "174\n",
      "196\n"
     ]
    }
   ],
   "source": [
    "print(len(df[df['video_id'] == 1].index))\n",
    "print(len(df[(df['video_id'] == 1) & (df['CLASS'] == 1)].index))\n",
    "print(len(df[(df['video_id'] == 1) & (df['CLASS'] == 0)].index))\n",
    "\n",
    "print(len(df[df['video_id'] == 2].index))\n",
    "print(len(df[(df['video_id'] == 2) & (df['CLASS'] == 1)].index))\n",
    "print(len(df[(df['video_id'] == 2) & (df['CLASS'] == 0)].index))\n",
    "\n",
    "print(len(df[df['video_id'] == 3].index))\n",
    "print(len(df[(df['video_id'] == 3) & (df['CLASS'] == 1)].index))\n",
    "print(len(df[(df['video_id'] == 3) & (df['CLASS'] == 0)].index))\n",
    "\n",
    "print(len(df[df['video_id'] == 4].index))\n",
    "print(len(df[(df['video_id'] == 4) & (df['CLASS'] == 1)].index))\n",
    "print(len(df[(df['video_id'] == 4) & (df['CLASS'] == 0)].index))\n",
    "\n",
    "print(len(df[df['video_id'] == 5].index))\n",
    "print(len(df[(df['video_id'] == 5) & (df['CLASS'] == 1)].index))\n",
    "print(len(df[(df['video_id'] == 5) & (df['CLASS'] == 0)].index))"
   ],
   "metadata": {
    "collapsed": false,
    "pycharm": {
     "name": "#%%\n"
    }
   }
  },
  {
   "cell_type": "code",
   "execution_count": 4,
   "outputs": [
    {
     "name": "stdout",
     "output_type": "stream",
     "text": [
      "1956\n",
      "1005\n",
      "951\n"
     ]
    }
   ],
   "source": [
    "print(len(df.index))\n",
    "print(len(df[df['CLASS'] == 1].index))\n",
    "print(len(df[df['CLASS'] == 0].index))"
   ],
   "metadata": {
    "collapsed": false,
    "pycharm": {
     "name": "#%%\n"
    }
   }
  },
  {
   "cell_type": "code",
   "execution_count": 5,
   "outputs": [
    {
     "data": {
      "text/plain": "                                     COMMENT_ID            AUTHOR  \\\n0   LZQPQhLyRh80UYxNuaDWhIGQYNQ96IuCg-AYWqNPjpU         Julius NM   \n1   LZQPQhLyRh_C2cTtd9MvFRJedxydaVW-2sNg5Diuo4A       adam riyati   \n2   LZQPQhLyRh9MSZYnf8djyk0gEF9BHDPYrrK-qCczIY8  Evgeny Murashkin   \n3           z13jhp0bxqncu512g22wvzkasxmvvzjaz04   ElNino Melendez   \n4           z13fwbwp1oujthgqj04chlngpvzmtt3r3dw            GsMega   \n5   LZQPQhLyRh9-wNRtlZDM90f1k0BrdVdJyN_YsaSwfxc      Jason Haddad   \n6           z13lfzdo5vmdi1cm123te5uz2mqig1brz04    ferleck ferles   \n7         z122wfnzgt30fhubn04cdn3xfx2mxzngsl40k      Bob Kanowski   \n8           z13ttt1jcraqexk2o234ghbgzxymz1zzi04              Cony   \n9           z12avveb4xqiirsix04chxviiljryduwxg0       BeBe Burkey   \n10        z13auhww3oufjn1qo04ci3grqqjmfjexxuo0k         Huckyduck   \n11            z13xit5agm2zyh4f523rst2gowmbx5bml       Lone Twistt   \n12            z13pejoiuozwxtdu323dspopnri4xts0f      Archie Lewis   \n13        z121zxaxsq25z5k5o04ch1o5jqqfij3gtm40k   TheUploadaddict   \n14        z12oglnpoq3gjh4om04cfdlbgp2uepyytpw0k    Francisco Nora   \n\n                   DATE                                            CONTENT  \\\n0   2013-11-07T06:20:48  Huh, anyway check out this you[tube] channel: ...   \n1   2013-11-07T12:37:15  Hey guys check out my new channel and our firs...   \n2   2013-11-08T17:34:21             just for test I have to say murdev.com   \n3   2013-11-09T08:28:43   me shaking my sexy ass on my channel enjoy ^_^ ﻿   \n4   2013-11-10T16:05:38            watch?v=vtaRGgvGtWQ   Check this out .﻿   \n5   2013-11-26T02:55:11  Hey, check out my new website!! This site is a...   \n6   2013-11-27T21:39:24                          Subscribe to my channel ﻿   \n7   2013-11-28T12:33:27  i turned it on mute as soon is i came on i jus...   \n8   2013-11-28T16:01:47    You should check my channel for Funny VIDEOS!!﻿   \n9   2013-11-28T16:30:13  and u should.d check my channel and tell me wh...   \n10  2013-11-28T17:06:17                               Hey subscribe to me﻿   \n11  2013-11-28T17:34:55   Once you have started reading do not stop. If...   \n12  2013-11-28T17:54:39               https://twitter.com/GBphotographyGB﻿   \n13  2013-11-28T18:12:12                            subscribe like comment﻿   \n14  2013-11-28T19:52:35  please like :D https://premium.easypromosapp.c...   \n\n    CLASS  video_id  \n0       1         1  \n1       1         1  \n2       1         1  \n3       1         1  \n4       1         1  \n5       1         1  \n6       1         1  \n7       0         1  \n8       1         1  \n9       1         1  \n10      1         1  \n11      1         1  \n12      1         1  \n13      1         1  \n14      1         1  ",
      "text/html": "<div>\n<style scoped>\n    .dataframe tbody tr th:only-of-type {\n        vertical-align: middle;\n    }\n\n    .dataframe tbody tr th {\n        vertical-align: top;\n    }\n\n    .dataframe thead th {\n        text-align: right;\n    }\n</style>\n<table border=\"1\" class=\"dataframe\">\n  <thead>\n    <tr style=\"text-align: right;\">\n      <th></th>\n      <th>COMMENT_ID</th>\n      <th>AUTHOR</th>\n      <th>DATE</th>\n      <th>CONTENT</th>\n      <th>CLASS</th>\n      <th>video_id</th>\n    </tr>\n  </thead>\n  <tbody>\n    <tr>\n      <th>0</th>\n      <td>LZQPQhLyRh80UYxNuaDWhIGQYNQ96IuCg-AYWqNPjpU</td>\n      <td>Julius NM</td>\n      <td>2013-11-07T06:20:48</td>\n      <td>Huh, anyway check out this you[tube] channel: ...</td>\n      <td>1</td>\n      <td>1</td>\n    </tr>\n    <tr>\n      <th>1</th>\n      <td>LZQPQhLyRh_C2cTtd9MvFRJedxydaVW-2sNg5Diuo4A</td>\n      <td>adam riyati</td>\n      <td>2013-11-07T12:37:15</td>\n      <td>Hey guys check out my new channel and our firs...</td>\n      <td>1</td>\n      <td>1</td>\n    </tr>\n    <tr>\n      <th>2</th>\n      <td>LZQPQhLyRh9MSZYnf8djyk0gEF9BHDPYrrK-qCczIY8</td>\n      <td>Evgeny Murashkin</td>\n      <td>2013-11-08T17:34:21</td>\n      <td>just for test I have to say murdev.com</td>\n      <td>1</td>\n      <td>1</td>\n    </tr>\n    <tr>\n      <th>3</th>\n      <td>z13jhp0bxqncu512g22wvzkasxmvvzjaz04</td>\n      <td>ElNino Melendez</td>\n      <td>2013-11-09T08:28:43</td>\n      <td>me shaking my sexy ass on my channel enjoy ^_^ ﻿</td>\n      <td>1</td>\n      <td>1</td>\n    </tr>\n    <tr>\n      <th>4</th>\n      <td>z13fwbwp1oujthgqj04chlngpvzmtt3r3dw</td>\n      <td>GsMega</td>\n      <td>2013-11-10T16:05:38</td>\n      <td>watch?v=vtaRGgvGtWQ   Check this out .﻿</td>\n      <td>1</td>\n      <td>1</td>\n    </tr>\n    <tr>\n      <th>5</th>\n      <td>LZQPQhLyRh9-wNRtlZDM90f1k0BrdVdJyN_YsaSwfxc</td>\n      <td>Jason Haddad</td>\n      <td>2013-11-26T02:55:11</td>\n      <td>Hey, check out my new website!! This site is a...</td>\n      <td>1</td>\n      <td>1</td>\n    </tr>\n    <tr>\n      <th>6</th>\n      <td>z13lfzdo5vmdi1cm123te5uz2mqig1brz04</td>\n      <td>ferleck ferles</td>\n      <td>2013-11-27T21:39:24</td>\n      <td>Subscribe to my channel ﻿</td>\n      <td>1</td>\n      <td>1</td>\n    </tr>\n    <tr>\n      <th>7</th>\n      <td>z122wfnzgt30fhubn04cdn3xfx2mxzngsl40k</td>\n      <td>Bob Kanowski</td>\n      <td>2013-11-28T12:33:27</td>\n      <td>i turned it on mute as soon is i came on i jus...</td>\n      <td>0</td>\n      <td>1</td>\n    </tr>\n    <tr>\n      <th>8</th>\n      <td>z13ttt1jcraqexk2o234ghbgzxymz1zzi04</td>\n      <td>Cony</td>\n      <td>2013-11-28T16:01:47</td>\n      <td>You should check my channel for Funny VIDEOS!!﻿</td>\n      <td>1</td>\n      <td>1</td>\n    </tr>\n    <tr>\n      <th>9</th>\n      <td>z12avveb4xqiirsix04chxviiljryduwxg0</td>\n      <td>BeBe Burkey</td>\n      <td>2013-11-28T16:30:13</td>\n      <td>and u should.d check my channel and tell me wh...</td>\n      <td>1</td>\n      <td>1</td>\n    </tr>\n    <tr>\n      <th>10</th>\n      <td>z13auhww3oufjn1qo04ci3grqqjmfjexxuo0k</td>\n      <td>Huckyduck</td>\n      <td>2013-11-28T17:06:17</td>\n      <td>Hey subscribe to me﻿</td>\n      <td>1</td>\n      <td>1</td>\n    </tr>\n    <tr>\n      <th>11</th>\n      <td>z13xit5agm2zyh4f523rst2gowmbx5bml</td>\n      <td>Lone Twistt</td>\n      <td>2013-11-28T17:34:55</td>\n      <td>Once you have started reading do not stop. If...</td>\n      <td>1</td>\n      <td>1</td>\n    </tr>\n    <tr>\n      <th>12</th>\n      <td>z13pejoiuozwxtdu323dspopnri4xts0f</td>\n      <td>Archie Lewis</td>\n      <td>2013-11-28T17:54:39</td>\n      <td>https://twitter.com/GBphotographyGB﻿</td>\n      <td>1</td>\n      <td>1</td>\n    </tr>\n    <tr>\n      <th>13</th>\n      <td>z121zxaxsq25z5k5o04ch1o5jqqfij3gtm40k</td>\n      <td>TheUploadaddict</td>\n      <td>2013-11-28T18:12:12</td>\n      <td>subscribe like comment﻿</td>\n      <td>1</td>\n      <td>1</td>\n    </tr>\n    <tr>\n      <th>14</th>\n      <td>z12oglnpoq3gjh4om04cfdlbgp2uepyytpw0k</td>\n      <td>Francisco Nora</td>\n      <td>2013-11-28T19:52:35</td>\n      <td>please like :D https://premium.easypromosapp.c...</td>\n      <td>1</td>\n      <td>1</td>\n    </tr>\n  </tbody>\n</table>\n</div>"
     },
     "execution_count": 5,
     "metadata": {},
     "output_type": "execute_result"
    }
   ],
   "source": [
    "df.head(15)"
   ],
   "metadata": {
    "collapsed": false,
    "pycharm": {
     "name": "#%%\n"
    }
   }
  },
  {
   "cell_type": "code",
   "execution_count": 6,
   "outputs": [
    {
     "data": {
      "text/plain": "                                       COMMENT_ID                AUTHOR  \\\n1941  _2viQ_Qnc69Ic8yEMHsemUQiq01-kwwqnbDowMO9kdM            lynchee360   \n1942  _2viQ_Qnc6-qHJ_u9Yv84vj4yOAPLUL3ZibCc7b-vBI            FAHAD KHAN   \n1943  _2viQ_Qnc6_HU65mTzCmXnjA-WLt7XqxqPj7EwAtlO0          ricky swaggz   \n1944  _2viQ_Qnc6-jk58CPwBnqfbM6oByJH5oPvCtKecLQyo       Shadrach Grentz   \n1945  _2viQ_Qnc6_fgKR1W7-k1lbVURi8hVbMlQAMSOCSnyk           ThirdDegr3e   \n1946  _2viQ_Qnc69MEEHHJxZ427KX8MlljJPnUC2YBbvbWwY           ThirdDegr3e   \n1947  _2viQ_Qnc6_RKHVetk9kLzx8ZC62_J7y73FWFSBTe8Q           ThirdDegr3e   \n1948  _2viQ_Qnc68TufyXKiTwky80ewSPbhRiD5XFHrJH9lg      Ysobel Schofield   \n1949  _2viQ_Qnc689m-WiwOwvrQU7LvkLAgspnfXL8ovE0ME       TheHotChocolate   \n1950  _2viQ_Qnc6_1Hq9MGlefkBIszt9rYD3S_CozADvMhQ4         Dinova Sharon   \n1951  _2viQ_Qnc6-bMSjqyL1NKj57ROicCSJV5SwTrw-RFFA          Katie Mettam   \n1952  _2viQ_Qnc6-pY-1yR6K2FhmC5i48-WuNx5CumlHLDAI  Sabina Pearson-Smith   \n1953  _2viQ_Qnc6_k_n_Bse9zVhJP8tJReZpo8uM2uZfnzDs         jeffrey jules   \n1954  _2viQ_Qnc6_yBt8UGMWyg3vh0PulTqcqyQtdE7d4Fl0        Aishlin Maciel   \n1955  _2viQ_Qnc685RPw1aSa1tfrIuHXRvAQ2rPT9R06KTqA           Latin Bosch   \n\n                            DATE  \\\n1941  2013-07-14T22:38:26.779000   \n1942  2013-07-14T22:06:57.712000   \n1943  2013-07-14T20:40:00.331000   \n1944  2013-07-14T03:11:20.243000   \n1945  2013-07-13T20:48:22.967000   \n1946  2013-07-13T20:48:06.033000   \n1947  2013-07-13T20:47:40.793000   \n1948  2013-07-13T20:17:25.181000   \n1949  2013-07-13T18:26:37.017000   \n1950  2013-07-13T14:44:00.700000   \n1951  2013-07-13T13:27:39.441000   \n1952  2013-07-13T13:14:30.021000   \n1953  2013-07-13T12:09:31.188000   \n1954  2013-07-13T11:17:52.308000   \n1955  2013-07-12T22:33:27.916000   \n\n                                                CONTENT  CLASS  video_id  \n1941                                I love dis song!! 3      0         5  \n1942  I WILL NEVER FORGET THIS SONG IN MY LIFE LIKE ...      1         5  \n1943  ********OMG Facebook is OLD! Check out  ------...      1         5  \n1944  Hey Music Fans I really appreciate all of you ...      1         5  \n1945  **CHECK OUT MY NEW MIXTAPE**** **CHECK OUT MY ...      1         5  \n1946  **CHECK OUT MY NEW MIXTAPE**** **CHECK OUT MY ...      1         5  \n1947  **CHECK OUT MY NEW MIXTAPE**** **CHECK OUT MY ...      1         5  \n1948                                Waka waka she rules      0         5  \n1949                           she is sooooo beautiful!      0         5  \n1950                                  well done shakira      0         5  \n1951  I love this song because we sing it at Camp al...      0         5  \n1952  I love this song for two reasons: 1.it is abou...      0         5  \n1953                                                wow      0         5  \n1954                            Shakira u are so wiredo      0         5  \n1955                         Shakira is the best dancer      0         5  ",
      "text/html": "<div>\n<style scoped>\n    .dataframe tbody tr th:only-of-type {\n        vertical-align: middle;\n    }\n\n    .dataframe tbody tr th {\n        vertical-align: top;\n    }\n\n    .dataframe thead th {\n        text-align: right;\n    }\n</style>\n<table border=\"1\" class=\"dataframe\">\n  <thead>\n    <tr style=\"text-align: right;\">\n      <th></th>\n      <th>COMMENT_ID</th>\n      <th>AUTHOR</th>\n      <th>DATE</th>\n      <th>CONTENT</th>\n      <th>CLASS</th>\n      <th>video_id</th>\n    </tr>\n  </thead>\n  <tbody>\n    <tr>\n      <th>1941</th>\n      <td>_2viQ_Qnc69Ic8yEMHsemUQiq01-kwwqnbDowMO9kdM</td>\n      <td>lynchee360</td>\n      <td>2013-07-14T22:38:26.779000</td>\n      <td>I love dis song!! 3</td>\n      <td>0</td>\n      <td>5</td>\n    </tr>\n    <tr>\n      <th>1942</th>\n      <td>_2viQ_Qnc6-qHJ_u9Yv84vj4yOAPLUL3ZibCc7b-vBI</td>\n      <td>FAHAD KHAN</td>\n      <td>2013-07-14T22:06:57.712000</td>\n      <td>I WILL NEVER FORGET THIS SONG IN MY LIFE LIKE ...</td>\n      <td>1</td>\n      <td>5</td>\n    </tr>\n    <tr>\n      <th>1943</th>\n      <td>_2viQ_Qnc6_HU65mTzCmXnjA-WLt7XqxqPj7EwAtlO0</td>\n      <td>ricky swaggz</td>\n      <td>2013-07-14T20:40:00.331000</td>\n      <td>********OMG Facebook is OLD! Check out  ------...</td>\n      <td>1</td>\n      <td>5</td>\n    </tr>\n    <tr>\n      <th>1944</th>\n      <td>_2viQ_Qnc6-jk58CPwBnqfbM6oByJH5oPvCtKecLQyo</td>\n      <td>Shadrach Grentz</td>\n      <td>2013-07-14T03:11:20.243000</td>\n      <td>Hey Music Fans I really appreciate all of you ...</td>\n      <td>1</td>\n      <td>5</td>\n    </tr>\n    <tr>\n      <th>1945</th>\n      <td>_2viQ_Qnc6_fgKR1W7-k1lbVURi8hVbMlQAMSOCSnyk</td>\n      <td>ThirdDegr3e</td>\n      <td>2013-07-13T20:48:22.967000</td>\n      <td>**CHECK OUT MY NEW MIXTAPE**** **CHECK OUT MY ...</td>\n      <td>1</td>\n      <td>5</td>\n    </tr>\n    <tr>\n      <th>1946</th>\n      <td>_2viQ_Qnc69MEEHHJxZ427KX8MlljJPnUC2YBbvbWwY</td>\n      <td>ThirdDegr3e</td>\n      <td>2013-07-13T20:48:06.033000</td>\n      <td>**CHECK OUT MY NEW MIXTAPE**** **CHECK OUT MY ...</td>\n      <td>1</td>\n      <td>5</td>\n    </tr>\n    <tr>\n      <th>1947</th>\n      <td>_2viQ_Qnc6_RKHVetk9kLzx8ZC62_J7y73FWFSBTe8Q</td>\n      <td>ThirdDegr3e</td>\n      <td>2013-07-13T20:47:40.793000</td>\n      <td>**CHECK OUT MY NEW MIXTAPE**** **CHECK OUT MY ...</td>\n      <td>1</td>\n      <td>5</td>\n    </tr>\n    <tr>\n      <th>1948</th>\n      <td>_2viQ_Qnc68TufyXKiTwky80ewSPbhRiD5XFHrJH9lg</td>\n      <td>Ysobel Schofield</td>\n      <td>2013-07-13T20:17:25.181000</td>\n      <td>Waka waka she rules</td>\n      <td>0</td>\n      <td>5</td>\n    </tr>\n    <tr>\n      <th>1949</th>\n      <td>_2viQ_Qnc689m-WiwOwvrQU7LvkLAgspnfXL8ovE0ME</td>\n      <td>TheHotChocolate</td>\n      <td>2013-07-13T18:26:37.017000</td>\n      <td>she is sooooo beautiful!</td>\n      <td>0</td>\n      <td>5</td>\n    </tr>\n    <tr>\n      <th>1950</th>\n      <td>_2viQ_Qnc6_1Hq9MGlefkBIszt9rYD3S_CozADvMhQ4</td>\n      <td>Dinova Sharon</td>\n      <td>2013-07-13T14:44:00.700000</td>\n      <td>well done shakira</td>\n      <td>0</td>\n      <td>5</td>\n    </tr>\n    <tr>\n      <th>1951</th>\n      <td>_2viQ_Qnc6-bMSjqyL1NKj57ROicCSJV5SwTrw-RFFA</td>\n      <td>Katie Mettam</td>\n      <td>2013-07-13T13:27:39.441000</td>\n      <td>I love this song because we sing it at Camp al...</td>\n      <td>0</td>\n      <td>5</td>\n    </tr>\n    <tr>\n      <th>1952</th>\n      <td>_2viQ_Qnc6-pY-1yR6K2FhmC5i48-WuNx5CumlHLDAI</td>\n      <td>Sabina Pearson-Smith</td>\n      <td>2013-07-13T13:14:30.021000</td>\n      <td>I love this song for two reasons: 1.it is abou...</td>\n      <td>0</td>\n      <td>5</td>\n    </tr>\n    <tr>\n      <th>1953</th>\n      <td>_2viQ_Qnc6_k_n_Bse9zVhJP8tJReZpo8uM2uZfnzDs</td>\n      <td>jeffrey jules</td>\n      <td>2013-07-13T12:09:31.188000</td>\n      <td>wow</td>\n      <td>0</td>\n      <td>5</td>\n    </tr>\n    <tr>\n      <th>1954</th>\n      <td>_2viQ_Qnc6_yBt8UGMWyg3vh0PulTqcqyQtdE7d4Fl0</td>\n      <td>Aishlin Maciel</td>\n      <td>2013-07-13T11:17:52.308000</td>\n      <td>Shakira u are so wiredo</td>\n      <td>0</td>\n      <td>5</td>\n    </tr>\n    <tr>\n      <th>1955</th>\n      <td>_2viQ_Qnc685RPw1aSa1tfrIuHXRvAQ2rPT9R06KTqA</td>\n      <td>Latin Bosch</td>\n      <td>2013-07-12T22:33:27.916000</td>\n      <td>Shakira is the best dancer</td>\n      <td>0</td>\n      <td>5</td>\n    </tr>\n  </tbody>\n</table>\n</div>"
     },
     "execution_count": 6,
     "metadata": {},
     "output_type": "execute_result"
    }
   ],
   "source": [
    "df.tail(15)"
   ],
   "metadata": {
    "collapsed": false,
    "pycharm": {
     "name": "#%%\n"
    }
   }
  },
  {
   "cell_type": "code",
   "execution_count": 7,
   "outputs": [
    {
     "name": "stdout",
     "output_type": "stream",
     "text": [
      "<class 'pandas.core.frame.DataFrame'>\n",
      "RangeIndex: 1956 entries, 0 to 1955\n",
      "Data columns (total 6 columns):\n",
      " #   Column      Non-Null Count  Dtype \n",
      "---  ------      --------------  ----- \n",
      " 0   COMMENT_ID  1956 non-null   object\n",
      " 1   AUTHOR      1956 non-null   object\n",
      " 2   DATE        1711 non-null   object\n",
      " 3   CONTENT     1956 non-null   object\n",
      " 4   CLASS       1956 non-null   int64 \n",
      " 5   video_id    1956 non-null   int64 \n",
      "dtypes: int64(2), object(4)\n",
      "memory usage: 91.8+ KB\n"
     ]
    }
   ],
   "source": [
    "df.info(verbose=True)"
   ],
   "metadata": {
    "collapsed": false,
    "pycharm": {
     "name": "#%%\n"
    }
   }
  },
  {
   "cell_type": "code",
   "execution_count": 8,
   "outputs": [
    {
     "name": "stdout",
     "output_type": "stream",
     "text": [
      "Total number of NaN s:245\n"
     ]
    },
    {
     "data": {
      "text/plain": "                 COMMENT_ID  AUTHOR       DATE CONTENT  CLASS video_id\ncolumn type          object  object     object  object  int64    int64\nnull values (nb)          0       0        245       0      0        0\nnull values (%)         0.0     0.0  12.525562     0.0    0.0      0.0",
      "text/html": "<div>\n<style scoped>\n    .dataframe tbody tr th:only-of-type {\n        vertical-align: middle;\n    }\n\n    .dataframe tbody tr th {\n        vertical-align: top;\n    }\n\n    .dataframe thead th {\n        text-align: right;\n    }\n</style>\n<table border=\"1\" class=\"dataframe\">\n  <thead>\n    <tr style=\"text-align: right;\">\n      <th></th>\n      <th>COMMENT_ID</th>\n      <th>AUTHOR</th>\n      <th>DATE</th>\n      <th>CONTENT</th>\n      <th>CLASS</th>\n      <th>video_id</th>\n    </tr>\n  </thead>\n  <tbody>\n    <tr>\n      <th>column type</th>\n      <td>object</td>\n      <td>object</td>\n      <td>object</td>\n      <td>object</td>\n      <td>int64</td>\n      <td>int64</td>\n    </tr>\n    <tr>\n      <th>null values (nb)</th>\n      <td>0</td>\n      <td>0</td>\n      <td>245</td>\n      <td>0</td>\n      <td>0</td>\n      <td>0</td>\n    </tr>\n    <tr>\n      <th>null values (%)</th>\n      <td>0.0</td>\n      <td>0.0</td>\n      <td>12.525562</td>\n      <td>0.0</td>\n      <td>0.0</td>\n      <td>0.0</td>\n    </tr>\n  </tbody>\n</table>\n</div>"
     },
     "metadata": {},
     "output_type": "display_data"
    }
   ],
   "source": [
    "print(f\"Total number of NaN s:{df.isnull().sum().sum()}\")\n",
    "hp.null_val_summary(df=df)"
   ],
   "metadata": {
    "collapsed": false,
    "pycharm": {
     "name": "#%%\n"
    }
   }
  },
  {
   "cell_type": "code",
   "execution_count": 9,
   "outputs": [
    {
     "data": {
      "text/plain": "COMMENT_ID    object\nAUTHOR        string\nDATE          object\nCONTENT       string\nCLASS          int64\nvideo_id       int64\ndtype: object"
     },
     "execution_count": 9,
     "metadata": {},
     "output_type": "execute_result"
    }
   ],
   "source": [
    "df = df.astype({'AUTHOR': 'string',\n",
    "                'CONTENT': 'string'}, errors='raise')\n",
    "df.dtypes"
   ],
   "metadata": {
    "collapsed": false,
    "pycharm": {
     "name": "#%%\n"
    }
   }
  },
  {
   "cell_type": "code",
   "execution_count": 10,
   "outputs": [
    {
     "name": "stdout",
     "output_type": "stream",
     "text": [
      "COMMENT_ID unique count and percentage: 1953, 99.85%\n",
      "AUTHOR unique count and percentage: 1792, 91.62%\n",
      "DATE unique count and percentage: 1710, 87.42%\n",
      "CONTENT unique count and percentage: 1760, 89.98%\n",
      "CLASS unique count and percentage: 2, 0.10%\n",
      "video_id unique count and percentage: 5, 0.26%\n"
     ]
    }
   ],
   "source": [
    "hp.unique_col_percent(df=df)"
   ],
   "metadata": {
    "collapsed": false,
    "pycharm": {
     "name": "#%%\n"
    }
   }
  },
  {
   "cell_type": "code",
   "execution_count": 11,
   "outputs": [
    {
     "name": "stdout",
     "output_type": "stream",
     "text": [
      "COMMENT_ID unique count and percentage: 1003, 99.80%\n",
      "AUTHOR unique count and percentage: 871, 86.67%\n",
      "DATE unique count and percentage: 761, 75.72%\n",
      "CONTENT unique count and percentage: 841, 83.68%\n",
      "CLASS unique count and percentage: 1, 0.10%\n",
      "video_id unique count and percentage: 5, 0.50%\n"
     ]
    }
   ],
   "source": [
    "hp.unique_col_percent(df=df[df['CLASS'] == 1])"
   ],
   "metadata": {
    "collapsed": false,
    "pycharm": {
     "name": "#%%\n"
    }
   }
  },
  {
   "cell_type": "code",
   "execution_count": 12,
   "outputs": [
    {
     "data": {
      "text/plain": "M.E.S               8\nShadrach Grentz     7\nLouis Bryant        7\nDanteBTV            6\nDerek Moya          5\nHidden Love         5\nLuckyMusiqLive      5\nScott Johnson       4\nJames Cook          4\nRapStarz Coleman    4\nLaura Brown         4\nAllDailyVines       4\nDrake Gagne         3\nricky swaggz        3\nKOZZI RAP           3\nmacgyver16          3\nAdam Whitney        3\nOFFICIAL LEXIS      3\nThirdDegr3e         3\nPyles Baxter        3\nName: AUTHOR, dtype: Int64"
     },
     "execution_count": 12,
     "metadata": {},
     "output_type": "execute_result"
    }
   ],
   "source": [
    "df[df['CLASS'] == 1]['AUTHOR'].value_counts(dropna=False).head(20)"
   ],
   "metadata": {
    "collapsed": false,
    "pycharm": {
     "name": "#%%\n"
    }
   }
  },
  {
   "cell_type": "code",
   "execution_count": 13,
   "outputs": [
    {
     "name": "stdout",
     "output_type": "stream",
     "text": [
      "8\n"
     ]
    },
    {
     "data": {
      "text/plain": "                                       COMMENT_ID AUTHOR DATE  \\\n1458  LneaDw26bFu8sZa1D5wQdex0wG1IYwFiZL4s3M0h2X8  M.E.S  NaN   \n1465  LneaDw26bFsnJbhjejnJC_J6d5sHIH1B9UYVbAUc9KM  M.E.S  NaN   \n1496  LneaDw26bFvk4DAhUcCJKLzujguS_mf4eS_LdZjARzE  M.E.S  NaN   \n1518  LneaDw26bFsMrQMk1vC-RxTxjmpFlt5sKz8Vo1_wIas  M.E.S  NaN   \n1526  LneaDw26bFuADByLeh7RnEltROTIUCqeYYXmt51DT2g  M.E.S  NaN   \n\n                                                CONTENT  CLASS  video_id  \n1458  hey its M.E.S here I&#39;m a young up and comi...      1         4  \n1465  im M.E.S an aspiring young rapper with high ho...      1         4  \n1496  hey its M.E.S here I&#39;m a young up and comi...      1         4  \n1518  hey its M.E.S here I&#39;m a young up and comi...      1         4  \n1526  hey its M.E.S here I&#39;m a young up and comi...      1         4  ",
      "text/html": "<div>\n<style scoped>\n    .dataframe tbody tr th:only-of-type {\n        vertical-align: middle;\n    }\n\n    .dataframe tbody tr th {\n        vertical-align: top;\n    }\n\n    .dataframe thead th {\n        text-align: right;\n    }\n</style>\n<table border=\"1\" class=\"dataframe\">\n  <thead>\n    <tr style=\"text-align: right;\">\n      <th></th>\n      <th>COMMENT_ID</th>\n      <th>AUTHOR</th>\n      <th>DATE</th>\n      <th>CONTENT</th>\n      <th>CLASS</th>\n      <th>video_id</th>\n    </tr>\n  </thead>\n  <tbody>\n    <tr>\n      <th>1458</th>\n      <td>LneaDw26bFu8sZa1D5wQdex0wG1IYwFiZL4s3M0h2X8</td>\n      <td>M.E.S</td>\n      <td>NaN</td>\n      <td>hey its M.E.S here I&amp;#39;m a young up and comi...</td>\n      <td>1</td>\n      <td>4</td>\n    </tr>\n    <tr>\n      <th>1465</th>\n      <td>LneaDw26bFsnJbhjejnJC_J6d5sHIH1B9UYVbAUc9KM</td>\n      <td>M.E.S</td>\n      <td>NaN</td>\n      <td>im M.E.S an aspiring young rapper with high ho...</td>\n      <td>1</td>\n      <td>4</td>\n    </tr>\n    <tr>\n      <th>1496</th>\n      <td>LneaDw26bFvk4DAhUcCJKLzujguS_mf4eS_LdZjARzE</td>\n      <td>M.E.S</td>\n      <td>NaN</td>\n      <td>hey its M.E.S here I&amp;#39;m a young up and comi...</td>\n      <td>1</td>\n      <td>4</td>\n    </tr>\n    <tr>\n      <th>1518</th>\n      <td>LneaDw26bFsMrQMk1vC-RxTxjmpFlt5sKz8Vo1_wIas</td>\n      <td>M.E.S</td>\n      <td>NaN</td>\n      <td>hey its M.E.S here I&amp;#39;m a young up and comi...</td>\n      <td>1</td>\n      <td>4</td>\n    </tr>\n    <tr>\n      <th>1526</th>\n      <td>LneaDw26bFuADByLeh7RnEltROTIUCqeYYXmt51DT2g</td>\n      <td>M.E.S</td>\n      <td>NaN</td>\n      <td>hey its M.E.S here I&amp;#39;m a young up and comi...</td>\n      <td>1</td>\n      <td>4</td>\n    </tr>\n  </tbody>\n</table>\n</div>"
     },
     "execution_count": 13,
     "metadata": {},
     "output_type": "execute_result"
    }
   ],
   "source": [
    "print(len(df[df['AUTHOR'] == 'M.E.S'].index))\n",
    "df[df['AUTHOR'] == 'M.E.S'].head()"
   ],
   "metadata": {
    "collapsed": false,
    "pycharm": {
     "name": "#%%\n"
    }
   }
  },
  {
   "cell_type": "code",
   "execution_count": 14,
   "outputs": [
    {
     "name": "stdout",
     "output_type": "stream",
     "text": [
      "7\n"
     ]
    },
    {
     "data": {
      "text/plain": "                                       COMMENT_ID           AUTHOR  \\\n1836  _2viQ_Qnc68dceJbTRNTP2sksMxa_lm35LaCu_jPluY  Shadrach Grentz   \n1914  _2viQ_Qnc69zyetF6GsHRzYGyXl4u5kg0Sm-nP-pupI  Shadrach Grentz   \n1915  _2viQ_Qnc699u36gNm3NRoq1quIaJWRNrftGEEZM3J4  Shadrach Grentz   \n1916  _2viQ_Qnc68LqKGb40V2ImKQYcp1ZqpHrCCMFqMCcA4  Shadrach Grentz   \n1920  _2viQ_Qnc69Nq0Ytk1jCpzWPCrpGEk6T7cdVAxfSlAk  Shadrach Grentz   \n\n                            DATE  \\\n1836  2013-09-29T13:59:42.162000   \n1914  2013-08-02T03:15:46.914000   \n1915  2013-08-01T21:43:52.122000   \n1916  2013-08-01T20:39:15.325000   \n1920  2013-07-29T17:39:24.876000   \n\n                                                CONTENT  CLASS  video_id  \n1836  Hey Music Fans I really appreciate any of you ...      1         5  \n1914  Hey Music Fans I really appreciate any of you ...      1         5  \n1915  Hey Music Fans I really appreciate any of you ...      1         5  \n1916  Hey Music Fans I really appreciate any of you ...      1         5  \n1920  Hey Music Fans I really appreciate any of you ...      1         5  ",
      "text/html": "<div>\n<style scoped>\n    .dataframe tbody tr th:only-of-type {\n        vertical-align: middle;\n    }\n\n    .dataframe tbody tr th {\n        vertical-align: top;\n    }\n\n    .dataframe thead th {\n        text-align: right;\n    }\n</style>\n<table border=\"1\" class=\"dataframe\">\n  <thead>\n    <tr style=\"text-align: right;\">\n      <th></th>\n      <th>COMMENT_ID</th>\n      <th>AUTHOR</th>\n      <th>DATE</th>\n      <th>CONTENT</th>\n      <th>CLASS</th>\n      <th>video_id</th>\n    </tr>\n  </thead>\n  <tbody>\n    <tr>\n      <th>1836</th>\n      <td>_2viQ_Qnc68dceJbTRNTP2sksMxa_lm35LaCu_jPluY</td>\n      <td>Shadrach Grentz</td>\n      <td>2013-09-29T13:59:42.162000</td>\n      <td>Hey Music Fans I really appreciate any of you ...</td>\n      <td>1</td>\n      <td>5</td>\n    </tr>\n    <tr>\n      <th>1914</th>\n      <td>_2viQ_Qnc69zyetF6GsHRzYGyXl4u5kg0Sm-nP-pupI</td>\n      <td>Shadrach Grentz</td>\n      <td>2013-08-02T03:15:46.914000</td>\n      <td>Hey Music Fans I really appreciate any of you ...</td>\n      <td>1</td>\n      <td>5</td>\n    </tr>\n    <tr>\n      <th>1915</th>\n      <td>_2viQ_Qnc699u36gNm3NRoq1quIaJWRNrftGEEZM3J4</td>\n      <td>Shadrach Grentz</td>\n      <td>2013-08-01T21:43:52.122000</td>\n      <td>Hey Music Fans I really appreciate any of you ...</td>\n      <td>1</td>\n      <td>5</td>\n    </tr>\n    <tr>\n      <th>1916</th>\n      <td>_2viQ_Qnc68LqKGb40V2ImKQYcp1ZqpHrCCMFqMCcA4</td>\n      <td>Shadrach Grentz</td>\n      <td>2013-08-01T20:39:15.325000</td>\n      <td>Hey Music Fans I really appreciate any of you ...</td>\n      <td>1</td>\n      <td>5</td>\n    </tr>\n    <tr>\n      <th>1920</th>\n      <td>_2viQ_Qnc69Nq0Ytk1jCpzWPCrpGEk6T7cdVAxfSlAk</td>\n      <td>Shadrach Grentz</td>\n      <td>2013-07-29T17:39:24.876000</td>\n      <td>Hey Music Fans I really appreciate any of you ...</td>\n      <td>1</td>\n      <td>5</td>\n    </tr>\n  </tbody>\n</table>\n</div>"
     },
     "execution_count": 14,
     "metadata": {},
     "output_type": "execute_result"
    }
   ],
   "source": [
    "print(len(df[df['AUTHOR'] == 'Shadrach Grentz'].index))\n",
    "df[df['AUTHOR'] == 'Shadrach Grentz'].head()"
   ],
   "metadata": {
    "collapsed": false,
    "pycharm": {
     "name": "#%%\n"
    }
   }
  },
  {
   "cell_type": "code",
   "execution_count": 15,
   "outputs": [
    {
     "data": {
      "text/plain": "_2viQ_Qnc68fX3dYsfYuM-m4ELMJvxOQBmBOFHqGOk0    2\nLneaDw26bFuH6iFsSrjlJLJIX3qD4R8-emuZ-aGUj0o    2\nLneaDw26bFvPh9xBHNw1btQoyP60ay_WWthtvXCx37s    2\nLZQPQhLyRh80UYxNuaDWhIGQYNQ96IuCg-AYWqNPjpU    1\nLneaDw26bFsTytWDcS_4DFWlbxAlCfw2c_9PIcArNdw    1\nName: COMMENT_ID, dtype: int64"
     },
     "execution_count": 15,
     "metadata": {},
     "output_type": "execute_result"
    }
   ],
   "source": [
    "df['COMMENT_ID'].value_counts(dropna=False).head(5)"
   ],
   "metadata": {
    "collapsed": false,
    "pycharm": {
     "name": "#%%\n"
    }
   }
  },
  {
   "cell_type": "code",
   "execution_count": 16,
   "outputs": [
    {
     "data": {
      "text/plain": "                                       COMMENT_ID          AUTHOR  \\\n1797  _2viQ_Qnc68fX3dYsfYuM-m4ELMJvxOQBmBOFHqGOk0  tyler sleetway   \n1798  _2viQ_Qnc68fX3dYsfYuM-m4ELMJvxOQBmBOFHqGOk0  tyler sleetway   \n\n                            DATE      CONTENT  CLASS  video_id  \n1797  2013-10-05T00:57:25.078000  so beutiful      0         5  \n1798  2013-10-05T00:57:25.078000  so beutiful      0         5  ",
      "text/html": "<div>\n<style scoped>\n    .dataframe tbody tr th:only-of-type {\n        vertical-align: middle;\n    }\n\n    .dataframe tbody tr th {\n        vertical-align: top;\n    }\n\n    .dataframe thead th {\n        text-align: right;\n    }\n</style>\n<table border=\"1\" class=\"dataframe\">\n  <thead>\n    <tr style=\"text-align: right;\">\n      <th></th>\n      <th>COMMENT_ID</th>\n      <th>AUTHOR</th>\n      <th>DATE</th>\n      <th>CONTENT</th>\n      <th>CLASS</th>\n      <th>video_id</th>\n    </tr>\n  </thead>\n  <tbody>\n    <tr>\n      <th>1797</th>\n      <td>_2viQ_Qnc68fX3dYsfYuM-m4ELMJvxOQBmBOFHqGOk0</td>\n      <td>tyler sleetway</td>\n      <td>2013-10-05T00:57:25.078000</td>\n      <td>so beutiful</td>\n      <td>0</td>\n      <td>5</td>\n    </tr>\n    <tr>\n      <th>1798</th>\n      <td>_2viQ_Qnc68fX3dYsfYuM-m4ELMJvxOQBmBOFHqGOk0</td>\n      <td>tyler sleetway</td>\n      <td>2013-10-05T00:57:25.078000</td>\n      <td>so beutiful</td>\n      <td>0</td>\n      <td>5</td>\n    </tr>\n  </tbody>\n</table>\n</div>"
     },
     "execution_count": 16,
     "metadata": {},
     "output_type": "execute_result"
    }
   ],
   "source": [
    "df[df['COMMENT_ID'] == '_2viQ_Qnc68fX3dYsfYuM-m4ELMJvxOQBmBOFHqGOk0']"
   ],
   "metadata": {
    "collapsed": false,
    "pycharm": {
     "name": "#%%\n"
    }
   }
  },
  {
   "cell_type": "code",
   "execution_count": 17,
   "outputs": [
    {
     "data": {
      "text/plain": "                                       COMMENT_ID       AUTHOR DATE  \\\n1441  LneaDw26bFuH6iFsSrjlJLJIX3qD4R8-emuZ-aGUj0o  Amir bassem  NaN   \n1443  LneaDw26bFuH6iFsSrjlJLJIX3qD4R8-emuZ-aGUj0o  Amir bassem  NaN   \n\n                             CONTENT  CLASS  video_id  \n1441  if u love rihanna subscribe me      1         4  \n1443  if u love rihanna subscribe me      1         4  ",
      "text/html": "<div>\n<style scoped>\n    .dataframe tbody tr th:only-of-type {\n        vertical-align: middle;\n    }\n\n    .dataframe tbody tr th {\n        vertical-align: top;\n    }\n\n    .dataframe thead th {\n        text-align: right;\n    }\n</style>\n<table border=\"1\" class=\"dataframe\">\n  <thead>\n    <tr style=\"text-align: right;\">\n      <th></th>\n      <th>COMMENT_ID</th>\n      <th>AUTHOR</th>\n      <th>DATE</th>\n      <th>CONTENT</th>\n      <th>CLASS</th>\n      <th>video_id</th>\n    </tr>\n  </thead>\n  <tbody>\n    <tr>\n      <th>1441</th>\n      <td>LneaDw26bFuH6iFsSrjlJLJIX3qD4R8-emuZ-aGUj0o</td>\n      <td>Amir bassem</td>\n      <td>NaN</td>\n      <td>if u love rihanna subscribe me</td>\n      <td>1</td>\n      <td>4</td>\n    </tr>\n    <tr>\n      <th>1443</th>\n      <td>LneaDw26bFuH6iFsSrjlJLJIX3qD4R8-emuZ-aGUj0o</td>\n      <td>Amir bassem</td>\n      <td>NaN</td>\n      <td>if u love rihanna subscribe me</td>\n      <td>1</td>\n      <td>4</td>\n    </tr>\n  </tbody>\n</table>\n</div>"
     },
     "execution_count": 17,
     "metadata": {},
     "output_type": "execute_result"
    }
   ],
   "source": [
    "df[df['COMMENT_ID'] == 'LneaDw26bFuH6iFsSrjlJLJIX3qD4R8-emuZ-aGUj0o']"
   ],
   "metadata": {
    "collapsed": false,
    "pycharm": {
     "name": "#%%\n"
    }
   }
  },
  {
   "cell_type": "code",
   "execution_count": 18,
   "outputs": [
    {
     "name": "stdout",
     "output_type": "stream",
     "text": [
      "COMMENT_ID unique count and percentage: 1953, 100.00%\n",
      "AUTHOR unique count and percentage: 1792, 91.76%\n",
      "DATE unique count and percentage: 1710, 87.56%\n",
      "CONTENT unique count and percentage: 1760, 90.12%\n",
      "CLASS unique count and percentage: 2, 0.10%\n",
      "video_id unique count and percentage: 5, 0.26%\n",
      "1953\n"
     ]
    }
   ],
   "source": [
    "df = df.drop_duplicates(subset=['COMMENT_ID'])\n",
    "hp.unique_col_percent(df=df)\n",
    "print(len(df.index))"
   ],
   "metadata": {
    "collapsed": false,
    "pycharm": {
     "name": "#%%\n"
    }
   }
  },
  {
   "cell_type": "code",
   "execution_count": 19,
   "outputs": [],
   "source": [
    "df = df.drop(['COMMENT_ID', 'DATE', 'video_id'], axis=1)"
   ],
   "metadata": {
    "collapsed": false,
    "pycharm": {
     "name": "#%%\n"
    }
   }
  },
  {
   "cell_type": "code",
   "execution_count": 20,
   "outputs": [],
   "source": [
    "df.to_parquet(path='dataset/youtube-agg-clean-v1.parquet', engine='pyarrow')"
   ],
   "metadata": {
    "collapsed": false,
    "pycharm": {
     "name": "#%%\n"
    }
   }
  },
  {
   "cell_type": "code",
   "execution_count": null,
   "outputs": [],
   "source": [],
   "metadata": {
    "collapsed": false,
    "pycharm": {
     "name": "#%%\n"
    }
   }
  }
 ],
 "metadata": {
  "kernelspec": {
   "display_name": "Python 3",
   "language": "python",
   "name": "python3"
  },
  "language_info": {
   "codemirror_mode": {
    "name": "ipython",
    "version": 2
   },
   "file_extension": ".py",
   "mimetype": "text/x-python",
   "name": "python",
   "nbconvert_exporter": "python",
   "pygments_lexer": "ipython2",
   "version": "2.7.6"
  }
 },
 "nbformat": 4,
 "nbformat_minor": 0
}