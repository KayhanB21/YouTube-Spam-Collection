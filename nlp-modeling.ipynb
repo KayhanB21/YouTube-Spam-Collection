{
 "cells": [
  {
   "cell_type": "code",
   "execution_count": 1,
   "metadata": {
    "collapsed": true,
    "pycharm": {
     "name": "#%%\n"
    }
   },
   "outputs": [],
   "source": [
    "import pandas as pd\n",
    "import spacy\n",
    "from sklearn.ensemble import ExtraTreesClassifier\n",
    "from sklearn.linear_model import LogisticRegression\n",
    "from sklearn.model_selection import train_test_split, cross_val_score\n",
    "from sklearn.metrics import confusion_matrix, ConfusionMatrixDisplay\n",
    "from sklearn.feature_extraction.text import TfidfVectorizer\n",
    "import numpy as np\n",
    "from collections import defaultdict\n",
    "import matplotlib.pyplot as plt"
   ]
  },
  {
   "cell_type": "code",
   "execution_count": 2,
   "metadata": {
    "pycharm": {
     "name": "#%%\n"
    }
   },
   "outputs": [
    {
     "data": {
      "text/plain": "             AUTHOR                                            CONTENT  CLASS  \\\n0         Julius NM  Huh, anyway check out this you[tube] channel: ...      1   \n1       adam riyati  Hey guys check out my new channel and our firs...      1   \n2  Evgeny Murashkin             just for test I have to say murdev.com      1   \n3   ElNino Melendez     me shaking my sexy ass on my channel enjoy ^_^      1   \n4            GsMega             watch?v=vtaRGgvGtWQ   Check this out .      1   \n\n   IS_YOUTUBE  IS_URL                                     CONTENT_EDITED  \\\n0       False   False                             huh check tube channel   \n1       False   False  hey guy check new channel vid monkey monkey wh...   \n2       False    True                                           test com   \n3       False   False                shake sexy ass channel enjoy joyful   \n4        True   False                                        watch check   \n\n                                 CONTENT_EDITED_TEMP  AUTHOR_SPAM_PROB  \n0                             huh check tube channel               1.0  \n1  hey guy check new channel vid monkey monkey wh...               1.0  \n2                                           test com               1.0  \n3                shake sexy ass channel enjoy joyful               1.0  \n4                                        watch check               1.0  ",
      "text/html": "<div>\n<style scoped>\n    .dataframe tbody tr th:only-of-type {\n        vertical-align: middle;\n    }\n\n    .dataframe tbody tr th {\n        vertical-align: top;\n    }\n\n    .dataframe thead th {\n        text-align: right;\n    }\n</style>\n<table border=\"1\" class=\"dataframe\">\n  <thead>\n    <tr style=\"text-align: right;\">\n      <th></th>\n      <th>AUTHOR</th>\n      <th>CONTENT</th>\n      <th>CLASS</th>\n      <th>IS_YOUTUBE</th>\n      <th>IS_URL</th>\n      <th>CONTENT_EDITED</th>\n      <th>CONTENT_EDITED_TEMP</th>\n      <th>AUTHOR_SPAM_PROB</th>\n    </tr>\n  </thead>\n  <tbody>\n    <tr>\n      <th>0</th>\n      <td>Julius NM</td>\n      <td>Huh, anyway check out this you[tube] channel: ...</td>\n      <td>1</td>\n      <td>False</td>\n      <td>False</td>\n      <td>huh check tube channel</td>\n      <td>huh check tube channel</td>\n      <td>1.0</td>\n    </tr>\n    <tr>\n      <th>1</th>\n      <td>adam riyati</td>\n      <td>Hey guys check out my new channel and our firs...</td>\n      <td>1</td>\n      <td>False</td>\n      <td>False</td>\n      <td>hey guy check new channel vid monkey monkey wh...</td>\n      <td>hey guy check new channel vid monkey monkey wh...</td>\n      <td>1.0</td>\n    </tr>\n    <tr>\n      <th>2</th>\n      <td>Evgeny Murashkin</td>\n      <td>just for test I have to say murdev.com</td>\n      <td>1</td>\n      <td>False</td>\n      <td>True</td>\n      <td>test com</td>\n      <td>test com</td>\n      <td>1.0</td>\n    </tr>\n    <tr>\n      <th>3</th>\n      <td>ElNino Melendez</td>\n      <td>me shaking my sexy ass on my channel enjoy ^_^</td>\n      <td>1</td>\n      <td>False</td>\n      <td>False</td>\n      <td>shake sexy ass channel enjoy joyful</td>\n      <td>shake sexy ass channel enjoy joyful</td>\n      <td>1.0</td>\n    </tr>\n    <tr>\n      <th>4</th>\n      <td>GsMega</td>\n      <td>watch?v=vtaRGgvGtWQ   Check this out .</td>\n      <td>1</td>\n      <td>True</td>\n      <td>False</td>\n      <td>watch check</td>\n      <td>watch check</td>\n      <td>1.0</td>\n    </tr>\n  </tbody>\n</table>\n</div>"
     },
     "execution_count": 2,
     "metadata": {},
     "output_type": "execute_result"
    }
   ],
   "source": [
    "df = pd.read_parquet(path='dataset/youtube-agg-nlp-v1.parquet', engine='pyarrow')\n",
    "df.head()"
   ]
  },
  {
   "cell_type": "code",
   "execution_count": 3,
   "metadata": {
    "pycharm": {
     "name": "#%%\n"
    }
   },
   "outputs": [
    {
     "name": "stdout",
     "output_type": "stream",
     "text": [
      "['tok2vec', 'tagger', 'attribute_ruler', 'lemmatizer']\n"
     ]
    }
   ],
   "source": [
    "nlp = spacy.load(\"en_core_web_md\", disable=['parser', 'ner'])\n",
    "print(nlp.pipe_names)"
   ]
  },
  {
   "cell_type": "code",
   "execution_count": 4,
   "metadata": {
    "pycharm": {
     "name": "#%%\n"
    }
   },
   "outputs": [
    {
     "name": "stdout",
     "output_type": "stream",
     "text": [
      "huh check tube channel\n",
      "(300,)\n",
      "huh\n",
      "(300,)\n"
     ]
    }
   ],
   "source": [
    "# create word and document vector of all Contents\n",
    "docs = list(nlp.pipe(df['CONTENT_EDITED']))\n",
    "print(docs[0])\n",
    "print(docs[0].vector.shape)\n",
    "print(docs[0][0])\n",
    "print(docs[0][0].vector.shape)\n",
    "# to show that the document vector is the average of words vector\n",
    "s = 0\n",
    "for doc in docs[0]:\n",
    "    s += doc.vector\n",
    "assert np.allclose(s / len(docs[0]), docs[0].vector)"
   ]
  },
  {
   "cell_type": "markdown",
   "metadata": {
    "pycharm": {
     "name": "#%% md\n"
    }
   },
   "source": [
    "First we can use ExtraTreesClassifier and average vector of each document to classify spam, non-spam items."
   ]
  },
  {
   "cell_type": "code",
   "execution_count": 5,
   "metadata": {
    "pycharm": {
     "name": "#%%\n"
    }
   },
   "outputs": [
    {
     "name": "stdout",
     "output_type": "stream",
     "text": [
      "(1953, 300)\n",
      "(1953,)\n"
     ]
    }
   ],
   "source": [
    "avg_vect = []\n",
    "for doc in docs:\n",
    "    avg_vect.append(doc.vector)\n",
    "avg_vect = np.array(avg_vect)\n",
    "target = df['CLASS'].values\n",
    "print(avg_vect.shape)\n",
    "print(target.shape)"
   ]
  },
  {
   "cell_type": "code",
   "execution_count": 6,
   "metadata": {
    "pycharm": {
     "name": "#%%\n"
    }
   },
   "outputs": [
    {
     "name": "stdout",
     "output_type": "stream",
     "text": [
      "(1855, 300) (1855,)\n",
      "(98, 300) (98,)\n"
     ]
    }
   ],
   "source": [
    "x_train, x_test, y_train, y_test = train_test_split(avg_vect, target, test_size=0.05, random_state=42)\n",
    "print(x_train.shape, y_train.shape)\n",
    "print(x_test.shape, y_test.shape)"
   ]
  },
  {
   "cell_type": "code",
   "execution_count": 7,
   "metadata": {
    "pycharm": {
     "name": "#%%\n"
    }
   },
   "outputs": [
    {
     "name": "stdout",
     "output_type": "stream",
     "text": [
      "ExtraTreesClassifier()\n"
     ]
    }
   ],
   "source": [
    "clf = ExtraTreesClassifier(n_estimators=100)\n",
    "print(clf)"
   ]
  },
  {
   "cell_type": "code",
   "execution_count": 8,
   "metadata": {
    "pycharm": {
     "name": "#%%\n"
    }
   },
   "outputs": [
    {
     "name": "stdout",
     "output_type": "stream",
     "text": [
      "Score: 0.9973045822102425\n"
     ]
    }
   ],
   "source": [
    "clf.fit(x_train, y_train)\n",
    "score = clf.score(x_train, y_train)\n",
    "print(f\"Score: {score}\")"
   ]
  },
  {
   "cell_type": "code",
   "execution_count": 9,
   "metadata": {
    "pycharm": {
     "name": "#%%\n"
    }
   },
   "outputs": [
    {
     "name": "stdout",
     "output_type": "stream",
     "text": [
      "CV average score: 0.91\n"
     ]
    }
   ],
   "source": [
    "cv_scores = cross_val_score(clf, x_train, y_train, cv=5)\n",
    "print(f\"CV average score: {cv_scores.mean():0.2f}\")"
   ]
  },
  {
   "cell_type": "code",
   "execution_count": 10,
   "metadata": {
    "pycharm": {
     "name": "#%%\n"
    }
   },
   "outputs": [
    {
     "name": "stdout",
     "output_type": "stream",
     "text": [
      "[[34  1]\n",
      " [ 7 56]]\n"
     ]
    },
    {
     "data": {
      "text/plain": "<Figure size 432x288 with 2 Axes>",
      "image/png": "[encoded data removed]"
     },
     "metadata": {
      "needs_background": "light"
     },
     "output_type": "display_data"
    }
   ],
   "source": [
    "y_pred = clf.predict(x_test)\n",
    "cm = confusion_matrix(y_test, y_pred)\n",
    "print(cm)\n",
    "disp = ConfusionMatrixDisplay(confusion_matrix=cm,\n",
    "                              display_labels=clf.classes_)\n",
    "disp.plot()\n",
    "plt.show()"
   ]
  },
  {
   "cell_type": "markdown",
   "metadata": {
    "pycharm": {
     "name": "#%% md\n"
    }
   },
   "source": [
    "Let's increase the number of trees, and check the change in results. Number of False Negative are higher than False Positive."
   ]
  },
  {
   "cell_type": "code",
   "execution_count": 11,
   "metadata": {
    "pycharm": {
     "name": "#%%\n"
    }
   },
   "outputs": [
    {
     "name": "stdout",
     "output_type": "stream",
     "text": [
      "Score: 0.9973045822102425\n",
      "CV average score: 0.92\n",
      "[[34  1]\n",
      " [ 4 59]]\n"
     ]
    },
    {
     "data": {
      "text/plain": "<Figure size 432x288 with 2 Axes>",
      "image/png": "[encoded data removed]"
     },
     "metadata": {
      "needs_background": "light"
     },
     "output_type": "display_data"
    }
   ],
   "source": [
    "clf = ExtraTreesClassifier(n_estimators=250)\n",
    "clf.fit(x_train, y_train)\n",
    "score = clf.score(x_train, y_train)\n",
    "print(f\"Score: {score}\")\n",
    "cv_scores = cross_val_score(clf, x_train, y_train, cv=5)\n",
    "print(f\"CV average score: {cv_scores.mean():0.2f}\")\n",
    "y_pred = clf.predict(x_test)\n",
    "cm = confusion_matrix(y_test, y_pred)\n",
    "print(cm)\n",
    "disp = ConfusionMatrixDisplay(confusion_matrix=cm,\n",
    "                              display_labels=clf.classes_)\n",
    "disp.plot()\n",
    "plt.show()"
   ]
  },
  {
   "cell_type": "markdown",
   "metadata": {
    "pycharm": {
     "name": "#%% md\n"
    }
   },
   "source": [
    "Let's decrease the number of estimators and check the results."
   ]
  },
  {
   "cell_type": "code",
   "execution_count": 12,
   "metadata": {
    "pycharm": {
     "name": "#%%\n"
    }
   },
   "outputs": [
    {
     "name": "stdout",
     "output_type": "stream",
     "text": [
      "Score: 0.9973045822102425\n",
      "CV average score: 0.91\n",
      "[[34  1]\n",
      " [ 4 59]]\n"
     ]
    },
    {
     "data": {
      "text/plain": "<Figure size 432x288 with 2 Axes>",
      "image/png": "[encoded data removed]"
     },
     "metadata": {
      "needs_background": "light"
     },
     "output_type": "display_data"
    }
   ],
   "source": [
    "clf = ExtraTreesClassifier(n_estimators=50)\n",
    "clf.fit(x_train, y_train)\n",
    "score = clf.score(x_train, y_train)\n",
    "print(f\"Score: {score}\")\n",
    "cv_scores = cross_val_score(clf, x_train, y_train, cv=5)\n",
    "print(f\"CV average score: {cv_scores.mean():0.2f}\")\n",
    "y_pred = clf.predict(x_test)\n",
    "cm = confusion_matrix(y_test, y_pred)\n",
    "print(cm)\n",
    "disp = ConfusionMatrixDisplay(confusion_matrix=cm,\n",
    "                              display_labels=clf.classes_)\n",
    "disp.plot()\n",
    "plt.show()"
   ]
  },
  {
   "cell_type": "markdown",
   "metadata": {
    "pycharm": {
     "name": "#%% md\n"
    }
   },
   "source": [
    "100 estimator seems a good hyperparameter for this classifier."
   ]
  },
  {
   "cell_type": "code",
   "execution_count": 13,
   "metadata": {
    "pycharm": {
     "name": "#%%\n"
    }
   },
   "outputs": [
    {
     "name": "stdout",
     "output_type": "stream",
     "text": [
      "(1953, 300)\n",
      "(1953,)\n"
     ]
    }
   ],
   "source": [
    "tfidf_vectorizer = TfidfVectorizer()\n",
    "transformed_documents = tfidf_vectorizer.fit_transform(df['CONTENT_EDITED'])\n",
    "max_idf = max(tfidf_vectorizer.idf_)\n",
    "word2weight = defaultdict(lambda: max_idf,\n",
    "                          [(w, tfidf_vectorizer.idf_[i]) for w, i in tfidf_vectorizer.vocabulary_.items()])\n",
    "avg_vect_tfidf = []\n",
    "for doc in docs:\n",
    "    doc_vect = np.zeros(docs[0].vector.shape)\n",
    "    for d in doc:\n",
    "        doc_vect += word2weight[d] * d.vector\n",
    "    doc_vect /= (len(doc) + 1)\n",
    "    avg_vect_tfidf.append(doc_vect)\n",
    "avg_vect_tfidf = np.array(avg_vect_tfidf)\n",
    "target = df['CLASS'].values\n",
    "print(avg_vect_tfidf.shape)\n",
    "print(target.shape)"
   ]
  },
  {
   "cell_type": "code",
   "execution_count": 14,
   "metadata": {
    "pycharm": {
     "name": "#%%\n"
    }
   },
   "outputs": [
    {
     "name": "stdout",
     "output_type": "stream",
     "text": [
      "Score: 0.997843665768194\n",
      "CV average score: 0.92\n",
      "[[34  1]\n",
      " [ 5 58]]\n"
     ]
    },
    {
     "data": {
      "text/plain": "<Figure size 432x288 with 2 Axes>",
      "image/png": "[encoded data removed]"
     },
     "metadata": {
      "needs_background": "light"
     },
     "output_type": "display_data"
    }
   ],
   "source": [
    "x_train, x_test, y_train, y_test = train_test_split(avg_vect_tfidf, target, test_size=0.05, random_state=42)\n",
    "clf = ExtraTreesClassifier(n_estimators=250)\n",
    "clf.fit(x_train, y_train)\n",
    "score = clf.score(x_train, y_train)\n",
    "print(f\"Score: {score}\")\n",
    "cv_scores = cross_val_score(clf, x_train, y_train, cv=5)\n",
    "print(f\"CV average score: {cv_scores.mean():0.2f}\")\n",
    "y_pred = clf.predict(x_test)\n",
    "cm = confusion_matrix(y_test, y_pred)\n",
    "print(cm)\n",
    "disp = ConfusionMatrixDisplay(confusion_matrix=cm,\n",
    "                              display_labels=clf.classes_)\n",
    "disp.plot()\n",
    "plt.show()"
   ]
  },
  {
   "cell_type": "code",
   "execution_count": 22,
   "metadata": {
    "pycharm": {
     "name": "#%%\n"
    }
   },
   "outputs": [
    {
     "name": "stdout",
     "output_type": "stream",
     "text": [
      "Score: 0.9363881401617251\n",
      "CV average score: 0.90\n",
      "[[33  2]\n",
      " [ 4 59]]\n"
     ]
    },
    {
     "data": {
      "text/plain": "<Figure size 432x288 with 2 Axes>",
      "image/png": "[encoded data removed]"
     },
     "metadata": {
      "needs_background": "light"
     },
     "output_type": "display_data"
    }
   ],
   "source": [
    "clf = LogisticRegression(max_iter=750)\n",
    "x_train, x_test, y_train, y_test = train_test_split(avg_vect, target, test_size=0.05, random_state=42)\n",
    "clf.fit(x_train, y_train)\n",
    "score = clf.score(x_train, y_train)\n",
    "print(f\"Score: {score}\")\n",
    "cv_scores = cross_val_score(clf, x_train, y_train, cv=5)\n",
    "print(f\"CV average score: {cv_scores.mean():0.2f}\")\n",
    "y_pred = clf.predict(x_test)\n",
    "cm = confusion_matrix(y_test, y_pred)\n",
    "print(cm)\n",
    "disp = ConfusionMatrixDisplay(confusion_matrix=cm,\n",
    "                              display_labels=clf.classes_)\n",
    "disp.plot()\n",
    "plt.show()"
   ]
  },
  {
   "cell_type": "code",
   "execution_count": 24,
   "outputs": [
    {
     "name": "stdout",
     "output_type": "stream",
     "text": [
      "Score: 0.9671159029649595\n",
      "CV average score: 0.90\n",
      "[[32  3]\n",
      " [ 7 56]]\n"
     ]
    },
    {
     "data": {
      "text/plain": "<Figure size 432x288 with 2 Axes>",
      "image/png": "[encoded data removed]"
     },
     "metadata": {
      "needs_background": "light"
     },
     "output_type": "display_data"
    }
   ],
   "source": [
    "clf = LogisticRegression(max_iter=750)\n",
    "x_train, x_test, y_train, y_test = train_test_split(avg_vect_tfidf, target, test_size=0.05, random_state=42)\n",
    "clf.fit(x_train, y_train)\n",
    "score = clf.score(x_train, y_train)\n",
    "print(f\"Score: {score}\")\n",
    "cv_scores = cross_val_score(clf, x_train, y_train, cv=5)\n",
    "print(f\"CV average score: {cv_scores.mean():0.2f}\")\n",
    "y_pred = clf.predict(x_test)\n",
    "cm = confusion_matrix(y_test, y_pred)\n",
    "print(cm)\n",
    "disp = ConfusionMatrixDisplay(confusion_matrix=cm,\n",
    "                              display_labels=clf.classes_)\n",
    "disp.plot()\n",
    "plt.show()"
   ],
   "metadata": {
    "collapsed": false,
    "pycharm": {
     "name": "#%%\n"
    }
   }
  },
  {
   "cell_type": "code",
   "execution_count": null,
   "outputs": [],
   "source": [],
   "metadata": {
    "collapsed": false,
    "pycharm": {
     "name": "#%%\n"
    }
   }
  }
 ],
 "metadata": {
  "kernelspec": {
   "display_name": "Python 3 (ipykernel)",
   "language": "python",
   "name": "python3"
  },
  "language_info": {
   "codemirror_mode": {
    "name": "ipython",
    "version": 3
   },
   "file_extension": ".py",
   "mimetype": "text/x-python",
   "name": "python",
   "nbconvert_exporter": "python",
   "pygments_lexer": "ipython3",
   "version": "3.10.3"
  }
 },
 "nbformat": 4,
 "nbformat_minor": 1
}